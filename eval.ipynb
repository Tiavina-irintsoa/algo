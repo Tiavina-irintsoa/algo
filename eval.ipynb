{
 "cells": [
  {
   "cell_type": "code",
   "execution_count": 3,
   "id": "f54866e4",
   "metadata": {},
   "outputs": [],
   "source": [
    "def verify(expression):\n",
    "    s=0\n",
    "    for char in expression:\n",
    "        if char == '(':\n",
    "            s+=1\n",
    "        if char == ')':\n",
    "            if s == 0:\n",
    "                return False\n",
    "            s-=1\n",
    "    if s != 0:\n",
    "        return False\n",
    "    return True"
   ]
  },
  {
   "cell_type": "code",
   "execution_count": 89,
   "id": "4b6b4805",
   "metadata": {},
   "outputs": [],
   "source": [
    "def transform(expression):\n",
    "    pile = []\n",
    "    file = []\n",
    "    operators=['*','+','-','/']\n",
    "    i_par=[]\n",
    "    for char in expression:\n",
    "        if char=='(':\n",
    "            i_par.append(len(pile))\n",
    "            pile.append(char)\n",
    "        elif char==')':\n",
    "            p_length=len(pile)\n",
    "            liste = []\n",
    "            \n",
    "            nb_par=len(i_par)-1\n",
    "            for i in range(p_length-1,i_par[nb_par], -1 ):\n",
    "                liste.append(pile[i])\n",
    "                pile.pop()\n",
    "            pile.pop(i_par[nb_par])\n",
    "            i_par.pop(nb_par)\n",
    "            file += liste[::-1]\n",
    "            \n",
    "        elif char in operators:\n",
    "            pile.append(char)\n",
    "        else:\n",
    "            file.append(char)\n",
    "    for pile_element in pile:\n",
    "        file.append(pile_element)\n",
    "    return file"
   ]
  },
  {
   "cell_type": "code",
   "execution_count": 91,
   "id": "f802bc51",
   "metadata": {},
   "outputs": [
    {
     "data": {
      "text/plain": [
       "['1', '3', '+', '2', '1', '+', '*', '1', '+']"
      ]
     },
     "execution_count": 91,
     "metadata": {},
     "output_type": "execute_result"
    }
   ],
   "source": [
    "expression='(((1+3)*(2+1))+1)'\n",
    "transform(expression)"
   ]
  },
  {
   "cell_type": "code",
   "execution_count": 94,
   "id": "1cd36d20",
   "metadata": {},
   "outputs": [],
   "source": [
    "def calcul(expression):\n",
    "    if(verify(expression)==False):\n",
    "        raise Exception('Expression non valide')\n",
    "    liste=transform(expression)\n",
    "    print(liste)\n",
    "    operators=['*','+','-','/']\n",
    "    pile=[]\n",
    "    for element in liste:\n",
    "        if element in operators:\n",
    "            p_length=len(pile)\n",
    "            if element == '*':\n",
    "                new_element=pile[p_length-2]*pile[p_length-1]\n",
    "            elif element == '+':\n",
    "                new_element=pile[p_length-2]+pile[p_length-1]\n",
    "            elif element == '-':\n",
    "                new_element=pile[p_length-2]-pile[p_length-1]\n",
    "            elif element == '/':\n",
    "                new_element=pile[p_length-2]/pile[p_length-1]\n",
    "            \n",
    "            pile.pop(p_length-1)\n",
    "            pile.pop(p_length-2)\n",
    "            pile.append(new_element)\n",
    "        else:\n",
    "            pile.append(float(element))\n",
    "    return pile[0]"
   ]
  },
  {
   "cell_type": "code",
   "execution_count": 93,
   "id": "8e29950b",
   "metadata": {},
   "outputs": [
    {
     "name": "stdout",
     "output_type": "stream",
     "text": [
      "['1', '3', '+', '2', '1', '+', '*', '1', '+']\n"
     ]
    },
    {
     "data": {
      "text/plain": [
       "13.0"
      ]
     },
     "execution_count": 93,
     "metadata": {},
     "output_type": "execute_result"
    }
   ],
   "source": [
    "expression='(((1+3)*(2+1))+1)'\n",
    "calcul(expression)"
   ]
  }
 ],
 "metadata": {
  "kernelspec": {
   "display_name": "Python 3 (ipykernel)",
   "language": "python",
   "name": "python3"
  },
  "language_info": {
   "codemirror_mode": {
    "name": "ipython",
    "version": 3
   },
   "file_extension": ".py",
   "mimetype": "text/x-python",
   "name": "python",
   "nbconvert_exporter": "python",
   "pygments_lexer": "ipython3",
   "version": "3.10.6"
  }
 },
 "nbformat": 4,
 "nbformat_minor": 5
}
