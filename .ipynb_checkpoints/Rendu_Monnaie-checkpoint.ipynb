{
 "cells": [
  {
   "cell_type": "code",
   "execution_count": 6,
   "id": "cfa61f18",
   "metadata": {},
   "outputs": [
    {
     "data": {
      "text/plain": [
       "[1, 1, 1, 4]"
      ]
     },
     "execution_count": 6,
     "metadata": {},
     "output_type": "execute_result"
    }
   ],
   "source": [
    "def checkIn(list1,list2):\n",
    "    for i in list1:\n",
    "        if i not in list2:\n",
    "            return False\n",
    "    return True\n",
    "def divise (r,diviseur):\n",
    "    res=[]\n",
    "    if diviseur == 1:\n",
    "        res.append([r])\n",
    "        return res\n",
    "    for i in range (1,r):\n",
    "        l=divise(r-i,diviseur-1)\n",
    "        new=[]\n",
    "        iprec=0\n",
    "        while iprec<(len(l)/2):\n",
    "            new.append(i)\n",
    "            for el in l[iprec]:\n",
    "                new.append(el)\n",
    "            res.append(new)\n",
    "            iprec+=1\n",
    "            new=[]\n",
    "    return res\n",
    "def rendu(M,r):\n",
    "    poss=[]\n",
    "    for i in range(1,r):\n",
    "        for div in divise(r,i):\n",
    "            if(checkIn(div,M)==True):\n",
    "                poss.append(div)\n",
    "    return poss[0]\n",
    "M=[1,4,9]\n",
    "r=7\n",
    "rendu(M,r)"
   ]
  },
  {
   "cell_type": "code",
   "execution_count": 75,
   "id": "930dcbfa",
   "metadata": {},
   "outputs": [
    {
     "data": {
      "text/plain": [
       "{1, 2, 3}"
      ]
     },
     "execution_count": 75,
     "metadata": {},
     "output_type": "execute_result"
    }
   ],
   "source": []
  },
  {
   "cell_type": "code",
   "execution_count": 34,
   "id": "57a0ecf5",
   "metadata": {},
   "outputs": [
    {
     "data": {
      "text/plain": [
       "[]"
      ]
     },
     "execution_count": 34,
     "metadata": {},
     "output_type": "execute_result"
    }
   ],
   "source": []
  },
  {
   "cell_type": "code",
   "execution_count": 5,
   "id": "ef70fa50",
   "metadata": {},
   "outputs": [
    {
     "name": "stdout",
     "output_type": "stream",
     "text": [
      "[7]\n",
      "1\n",
      "1\n",
      "1\n",
      "1\n",
      "1\n",
      "1\n",
      "[1, 6]\n",
      "[2, 5]\n",
      "[3, 4]\n",
      "[4, 3]\n",
      "[5, 2]\n",
      "[6, 1]\n",
      "1\n",
      "1\n",
      "1\n",
      "1\n",
      "1\n",
      "5\n",
      "1\n",
      "1\n",
      "1\n",
      "1\n",
      "4\n",
      "1\n",
      "1\n",
      "1\n",
      "3\n",
      "1\n",
      "1\n",
      "2\n",
      "1\n",
      "1\n",
      "0\n"
     ]
    },
    {
     "ename": "IndexError",
     "evalue": "list index out of range",
     "output_type": "error",
     "traceback": [
      "\u001b[0;31m---------------------------------------------------------------------------\u001b[0m",
      "\u001b[0;31mIndexError\u001b[0m                                Traceback (most recent call last)",
      "Cell \u001b[0;32mIn[5], line 35\u001b[0m\n\u001b[1;32m     33\u001b[0m M\u001b[38;5;241m=\u001b[39m[\u001b[38;5;241m1\u001b[39m,\u001b[38;5;241m4\u001b[39m,\u001b[38;5;241m5\u001b[39m,\u001b[38;5;241m7\u001b[39m]\n\u001b[1;32m     34\u001b[0m r\u001b[38;5;241m=\u001b[39m\u001b[38;5;241m7\u001b[39m\n\u001b[0;32m---> 35\u001b[0m \u001b[43mrendu\u001b[49m\u001b[43m(\u001b[49m\u001b[43mM\u001b[49m\u001b[43m,\u001b[49m\u001b[43mr\u001b[49m\u001b[43m)\u001b[49m\n",
      "Cell \u001b[0;32mIn[5], line 27\u001b[0m, in \u001b[0;36mrendu\u001b[0;34m(M, r)\u001b[0m\n\u001b[1;32m     25\u001b[0m poss\u001b[38;5;241m=\u001b[39m[]\n\u001b[1;32m     26\u001b[0m \u001b[38;5;28;01mfor\u001b[39;00m i \u001b[38;5;129;01min\u001b[39;00m \u001b[38;5;28mrange\u001b[39m(\u001b[38;5;241m1\u001b[39m,r):\n\u001b[0;32m---> 27\u001b[0m     \u001b[38;5;28;01mfor\u001b[39;00m div \u001b[38;5;129;01min\u001b[39;00m \u001b[43mdivise\u001b[49m\u001b[43m(\u001b[49m\u001b[43mM\u001b[49m\u001b[43m,\u001b[49m\u001b[43mr\u001b[49m\u001b[43m,\u001b[49m\u001b[43mi\u001b[49m\u001b[43m)\u001b[49m:\n\u001b[1;32m     28\u001b[0m         \u001b[38;5;28mprint\u001b[39m(div)\n\u001b[1;32m     29\u001b[0m         \u001b[38;5;28;01mif\u001b[39;00m(checkIn(div,M)\u001b[38;5;241m==\u001b[39m\u001b[38;5;28;01mTrue\u001b[39;00m):\n",
      "Cell \u001b[0;32mIn[5], line 18\u001b[0m, in \u001b[0;36mdivise\u001b[0;34m(M, r, diviseur)\u001b[0m\n\u001b[1;32m     16\u001b[0m \u001b[38;5;28;01mwhile\u001b[39;00m (iprec\u001b[38;5;241m<\u001b[39m\u001b[38;5;241m=\u001b[39m(\u001b[38;5;28mlen\u001b[39m(l)\u001b[38;5;241m/\u001b[39m\u001b[38;5;241m2\u001b[39m)):\n\u001b[1;32m     17\u001b[0m     new\u001b[38;5;241m.\u001b[39mappend(i)\n\u001b[0;32m---> 18\u001b[0m     \u001b[38;5;28;01mfor\u001b[39;00m el \u001b[38;5;129;01min\u001b[39;00m \u001b[43ml\u001b[49m\u001b[43m[\u001b[49m\u001b[43miprec\u001b[49m\u001b[43m]\u001b[49m:\n\u001b[1;32m     19\u001b[0m         new\u001b[38;5;241m.\u001b[39mappend(el)\n\u001b[1;32m     20\u001b[0m     res\u001b[38;5;241m.\u001b[39mappend(new)\n",
      "\u001b[0;31mIndexError\u001b[0m: list index out of range"
     ]
    }
   ],
   "source": []
  }
 ],
 "metadata": {
  "kernelspec": {
   "display_name": "Python 3 (ipykernel)",
   "language": "python",
   "name": "python3"
  },
  "language_info": {
   "codemirror_mode": {
    "name": "ipython",
    "version": 3
   },
   "file_extension": ".py",
   "mimetype": "text/x-python",
   "name": "python",
   "nbconvert_exporter": "python",
   "pygments_lexer": "ipython3",
   "version": "3.10.6"
  }
 },
 "nbformat": 4,
 "nbformat_minor": 5
}
