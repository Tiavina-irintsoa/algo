{
 "cells": [
  {
   "cell_type": "code",
   "execution_count": 3,
   "id": "f54866e4",
   "metadata": {},
   "outputs": [],
   "source": [
    "def verify(expression):\n",
    "    s=0\n",
    "    for char in expression:\n",
    "        if char == '(':\n",
    "            s+=1\n",
    "        if char == ')':\n",
    "            if s == 0:\n",
    "                return False\n",
    "            s-=1\n",
    "    if s != 0:\n",
    "        return False\n",
    "    return True"
   ]
  },
  {
   "cell_type": "code",
   "execution_count": 74,
   "id": "4b6b4805",
   "metadata": {},
   "outputs": [],
   "source": [
    "def transform(expression):\n",
    "    pile = []\n",
    "    file = []\n",
    "    operators=['*','+','-','/']\n",
    "    i_par=[]\n",
    "    for char in expression:\n",
    "        if char=='(':\n",
    "            i_par.append(len(pile))\n",
    "            pile.append(char)\n",
    "        elif char==')':\n",
    "            p_length=len(pile)\n",
    "            liste = []\n",
    "            \n",
    "            nb_par=len(i_par)-1\n",
    "            for i in range(p_length-1 ,i_par[nb_par], -1 ):\n",
    "                liste.append(pile[i])\n",
    "                pile.pop()\n",
    "            pile.pop(nb_par)\n",
    "            i_par.pop(nb_par)\n",
    "            file += liste[::-1]\n",
    "            \n",
    "        elif char in operators:\n",
    "            pile.append(char)\n",
    "        else:\n",
    "            file.append(char)\n",
    "    for pile_element in pile:\n",
    "        file.append(pile_element)\n",
    "    return file"
   ]
  },
  {
   "cell_type": "code",
   "execution_count": 75,
   "id": "6c55736b",
   "metadata": {},
   "outputs": [
    {
     "data": {
      "text/plain": [
       "['1', '3', '+', '2', '*']"
      ]
     },
     "execution_count": 75,
     "metadata": {},
     "output_type": "execute_result"
    }
   ],
   "source": [
    "expression='((1+3)*2)'\n",
    "transform(expression)"
   ]
  },
  {
   "cell_type": "code",
   "execution_count": 77,
   "id": "bc796921",
   "metadata": {},
   "outputs": [],
   "source": [
    "def calcul(expression):\n",
    "    if(verify(expression)==False):\n",
    "        raise Exception('Expression non valide')\n",
    "    liste=transform(expression)\n",
    "    print(liste)\n",
    "    operators=['*','+','-','/']\n",
    "    pile=[]\n",
    "    for element in liste:\n",
    "        if element in operators:\n",
    "            p_length=len(pile)\n",
    "            if element == '*':\n",
    "                new_element=pile[p_length-2]*pile[p_length-1]\n",
    "            elif element == '+':\n",
    "                new_element=pile[p_length-2]+pile[p_length-1]\n",
    "            elif element == '-':\n",
    "                new_element=pile[p_length-2]-pile[p_length-1]\n",
    "            elif element == '/':\n",
    "                new_element=pile[p_length-2]/pile[p_length-1]\n",
    "            \n",
    "            pile.pop(p_length-1)\n",
    "            pile.pop(p_length-2)\n",
    "            pile.append(new_element)\n",
    "        else:\n",
    "            pile.append(float(element))\n",
    "    return pile[0]"
   ]
  },
  {
   "cell_type": "code",
   "execution_count": 79,
   "id": "89022b4c",
   "metadata": {},
   "outputs": [
    {
     "name": "stdout",
     "output_type": "stream",
     "text": [
      "['1', '3', '+', '2', '1', '+', '1', '(', '+']\n"
     ]
    },
    {
     "ename": "ValueError",
     "evalue": "could not convert string to float: '('",
     "output_type": "error",
     "traceback": [
      "\u001b[0;31m---------------------------------------------------------------------------\u001b[0m",
      "\u001b[0;31mValueError\u001b[0m                                Traceback (most recent call last)",
      "Cell \u001b[0;32mIn[79], line 2\u001b[0m\n\u001b[1;32m      1\u001b[0m expression\u001b[38;5;241m=\u001b[39m\u001b[38;5;124m'\u001b[39m\u001b[38;5;124m((1+3)*(2+1)+1)\u001b[39m\u001b[38;5;124m'\u001b[39m\n\u001b[0;32m----> 2\u001b[0m \u001b[43mcalcul\u001b[49m\u001b[43m(\u001b[49m\u001b[43mexpression\u001b[49m\u001b[43m)\u001b[49m\n",
      "Cell \u001b[0;32mIn[77], line 24\u001b[0m, in \u001b[0;36mcalcul\u001b[0;34m(expression)\u001b[0m\n\u001b[1;32m     22\u001b[0m         pile\u001b[38;5;241m.\u001b[39mappend(new_element)\n\u001b[1;32m     23\u001b[0m     \u001b[38;5;28;01melse\u001b[39;00m:\n\u001b[0;32m---> 24\u001b[0m         pile\u001b[38;5;241m.\u001b[39mappend(\u001b[38;5;28;43mfloat\u001b[39;49m\u001b[43m(\u001b[49m\u001b[43melement\u001b[49m\u001b[43m)\u001b[49m)\n\u001b[1;32m     25\u001b[0m \u001b[38;5;28;01mreturn\u001b[39;00m pile[\u001b[38;5;241m0\u001b[39m]\n",
      "\u001b[0;31mValueError\u001b[0m: could not convert string to float: '('"
     ]
    }
   ],
   "source": [
    "expression='((1+3)*(2+1)+1)'\n",
    "calcul(expression)"
   ]
  }
 ],
 "metadata": {
  "kernelspec": {
   "display_name": "Python 3 (ipykernel)",
   "language": "python",
   "name": "python3"
  },
  "language_info": {
   "codemirror_mode": {
    "name": "ipython",
    "version": 3
   },
   "file_extension": ".py",
   "mimetype": "text/x-python",
   "name": "python",
   "nbconvert_exporter": "python",
   "pygments_lexer": "ipython3",
   "version": "3.10.6"
  }
 },
 "nbformat": 4,
 "nbformat_minor": 5
}
