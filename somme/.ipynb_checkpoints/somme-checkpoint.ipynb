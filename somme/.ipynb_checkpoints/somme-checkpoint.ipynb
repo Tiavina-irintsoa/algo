{
 "cells": [
  {
   "cell_type": "code",
   "execution_count": 59,
   "id": "066907e8",
   "metadata": {},
   "outputs": [],
   "source": [
    "def findCombinaisons(i,n,l,resp):\n",
    "    print(l[i])\n",
    "    temp = [el for el in resp]\n",
    "    temp.append(l[i])\n",
    "    print(f'temp {temp}')\n",
    "    print(f'sum= {sum(temp)}')\n",
    "    if sum(temp) == n:\n",
    "        return temp\n",
    "    print('not it')\n",
    "    for index in range (i+1,len(l)):\n",
    "        if l[index] <= n:\n",
    "            print(f'l[index] = {l[index]}')\n",
    "            print(f'temp = {temp}')\n",
    "            findCombinaisons(index, n, l, temp)\n",
    "            temp = [el for el in resp]+[l[i]]\n",
    "            print(f'after all this tiiiime temp = {temp}')"
   ]
  },
  {
   "cell_type": "code",
   "execution_count": 60,
   "id": "a589a1d3",
   "metadata": {},
   "outputs": [
    {
     "name": "stdout",
     "output_type": "stream",
     "text": [
      "1\n",
      "temp [1]\n",
      "sum= 1\n",
      "not it \n",
      "l[index] = 2\n",
      "temp = [1]\n",
      "2\n",
      "temp [1, 2]\n",
      "sum= 3\n",
      "not it \n",
      "l[index] = 3\n",
      "temp = [1, 2]\n",
      "3\n",
      "temp [1, 2, 3]\n",
      "sum= 6\n",
      "not it \n",
      "l[index] = 4\n",
      "temp = [1, 2, 3]\n",
      "4\n",
      "temp [1, 2, 3, 4]\n",
      "sum= 10\n",
      "not it \n",
      "after all this tiiiime temp = [1, 2, 3]\n",
      "after all this tiiiime temp = [1, 2]\n",
      "l[index] = 4\n",
      "temp = [1, 2]\n",
      "4\n",
      "temp [1, 2, 4]\n",
      "sum= 7\n",
      "after all this tiiiime temp = [1, 2]\n",
      "after all this tiiiime temp = [1]\n",
      "l[index] = 3\n",
      "temp = [1]\n",
      "3\n",
      "temp [1, 3]\n",
      "sum= 4\n",
      "not it \n",
      "l[index] = 4\n",
      "temp = [1, 3]\n",
      "4\n",
      "temp [1, 3, 4]\n",
      "sum= 8\n",
      "not it \n",
      "after all this tiiiime temp = [1, 3]\n",
      "after all this tiiiime temp = [1]\n",
      "l[index] = 4\n",
      "temp = [1]\n",
      "4\n",
      "temp [1, 4]\n",
      "sum= 5\n",
      "not it \n",
      "after all this tiiiime temp = [1]\n"
     ]
    }
   ],
   "source": [
    "resp=[]\n",
    "l = [1,2,3,4,8]\n",
    "n = 7\n",
    "i = 0\n",
    "findCombinaisons(i,n,l,resp)"
   ]
  }
 ],
 "metadata": {
  "kernelspec": {
   "display_name": "Python 3 (ipykernel)",
   "language": "python",
   "name": "python3"
  },
  "language_info": {
   "codemirror_mode": {
    "name": "ipython",
    "version": 3
   },
   "file_extension": ".py",
   "mimetype": "text/x-python",
   "name": "python",
   "nbconvert_exporter": "python",
   "pygments_lexer": "ipython3",
   "version": "3.10.6"
  }
 },
 "nbformat": 4,
 "nbformat_minor": 5
}
